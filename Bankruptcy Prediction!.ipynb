{
 "cells": [
  {
   "cell_type": "code",
   "execution_count": 1,
   "metadata": {},
   "outputs": [],
   "source": [
    "import pandas as pd\n",
    "import numpy as np\n",
    "import matplotlib.pyplot as plt\n",
    "import seaborn as sns\n",
    "%matplotlib inline\n",
    "\n",
    "from sklearn import preprocessing\n",
    "from sklearn.linear_model import LogisticRegression \n",
    "\n",
    "from sklearn.model_selection import GridSearchCV\n",
    "from sklearn.model_selection import KFold \n",
    "from sklearn.model_selection import cross_val_score \n",
    "from sklearn.model_selection import cross_val_predict \n",
    "from sklearn.metrics import auc, roc_curve, roc_auc_score\n",
    "from sklearn.metrics import confusion_matrix\n",
    "\n",
    "import warnings\n",
    "warnings.filterwarnings('ignore')\n"
   ]
  },
  {
   "cell_type": "markdown",
   "metadata": {},
   "source": [
    "## 1. Exploratory Analysis"
   ]
  },
  {
   "cell_type": "markdown",
   "metadata": {},
   "source": [
    "### 1-1. load the train set"
   ]
  },
  {
   "cell_type": "code",
   "execution_count": 2,
   "metadata": {},
   "outputs": [
    {
     "data": {
      "text/plain": [
       "(44, 13)"
      ]
     },
     "execution_count": 2,
     "metadata": {},
     "output_type": "execute_result"
    }
   ],
   "source": [
    "train = pd.read_csv('bankruptcytrainpost.csv')\n",
    "train.shape"
   ]
  },
  {
   "cell_type": "markdown",
   "metadata": {},
   "source": [
    "### 1-2. checking balancing of the target variable"
   ]
  },
  {
   "cell_type": "code",
   "execution_count": 3,
   "metadata": {},
   "outputs": [
    {
     "data": {
      "text/plain": [
       "1    22\n",
       "0    22\n",
       "Name: FAIL, dtype: int64"
      ]
     },
     "execution_count": 3,
     "metadata": {},
     "output_type": "execute_result"
    }
   ],
   "source": [
    "train['FAIL'].value_counts()"
   ]
  },
  {
   "cell_type": "code",
   "execution_count": 4,
   "metadata": {},
   "outputs": [
    {
     "data": {
      "image/png": "[encoded data removed]",
      "text/plain": [
       "<matplotlib.figure.Figure at 0x1a14522160>"
      ]
     },
     "metadata": {},
     "output_type": "display_data"
    }
   ],
   "source": [
    "f, ax = plt.subplots(1,2, figsize = (8,5))\n",
    "train['FAIL'].value_counts().plot.pie(explode=[0,0.1],autopct='%1.1f%%'\n",
    "                                            ,ax=ax[0],shadow=True, colors =['green','blue'])\n",
    "ax[0].set_title('FAIL')\n",
    "ax[0].set_ylabel('')\n",
    "sns.countplot('FAIL', data = train, ax = ax[1])\n",
    "ax[1].set_title('FAIL')\n",
    "plt.show()"
   ]
  },
  {
   "cell_type": "markdown",
   "metadata": {},
   "source": [
    "Since two classes of '0' and '1' are balanced, it is good to start modeling."
   ]
  },
  {
   "cell_type": "code",
   "execution_count": 5,
   "metadata": {},
   "outputs": [
    {
     "data": {
      "text/html": [
       "<div>\n",
       "<style scoped>\n",
       "    .dataframe tbody tr th:only-of-type {\n",
       "        vertical-align: middle;\n",
       "    }\n",
       "\n",
       "    .dataframe tbody tr th {\n",
       "        vertical-align: top;\n",
       "    }\n",
       "\n",
       "    .dataframe thead th {\n",
       "        text-align: right;\n",
       "    }\n",
       "</style>\n",
       "<table border=\"1\" class=\"dataframe\">\n",
       "  <thead>\n",
       "    <tr style=\"text-align: right;\">\n",
       "      <th></th>\n",
       "      <th>SALES</th>\n",
       "      <th>ROCE</th>\n",
       "      <th>FFTL</th>\n",
       "      <th>GEAR</th>\n",
       "      <th>CLTA</th>\n",
       "      <th>CACL</th>\n",
       "      <th>QACL</th>\n",
       "      <th>WCTA</th>\n",
       "      <th>LAG</th>\n",
       "      <th>AGE</th>\n",
       "      <th>CHAUD</th>\n",
       "      <th>BIG6</th>\n",
       "    </tr>\n",
       "  </thead>\n",
       "  <tbody>\n",
       "    <tr>\n",
       "      <th>0</th>\n",
       "      <td>7646</td>\n",
       "      <td>31.2239</td>\n",
       "      <td>0.6312</td>\n",
       "      <td>0.5205</td>\n",
       "      <td>0.4829</td>\n",
       "      <td>1.6397</td>\n",
       "      <td>1.4935</td>\n",
       "      <td>0.3089</td>\n",
       "      <td>286</td>\n",
       "      <td>25</td>\n",
       "      <td>0</td>\n",
       "      <td>0</td>\n",
       "    </tr>\n",
       "    <tr>\n",
       "      <th>1</th>\n",
       "      <td>36067</td>\n",
       "      <td>10.9613</td>\n",
       "      <td>0.3540</td>\n",
       "      <td>0.3786</td>\n",
       "      <td>0.3786</td>\n",
       "      <td>1.5852</td>\n",
       "      <td>1.1626</td>\n",
       "      <td>0.2216</td>\n",
       "      <td>301</td>\n",
       "      <td>33</td>\n",
       "      <td>0</td>\n",
       "      <td>1</td>\n",
       "    </tr>\n",
       "    <tr>\n",
       "      <th>2</th>\n",
       "      <td>16737</td>\n",
       "      <td>17.9949</td>\n",
       "      <td>0.4388</td>\n",
       "      <td>0.5236</td>\n",
       "      <td>0.4347</td>\n",
       "      <td>1.1748</td>\n",
       "      <td>0.9795</td>\n",
       "      <td>0.0760</td>\n",
       "      <td>55</td>\n",
       "      <td>26</td>\n",
       "      <td>0</td>\n",
       "      <td>1</td>\n",
       "    </tr>\n",
       "    <tr>\n",
       "      <th>3</th>\n",
       "      <td>48162</td>\n",
       "      <td>6.1787</td>\n",
       "      <td>0.1181</td>\n",
       "      <td>0.9996</td>\n",
       "      <td>0.7437</td>\n",
       "      <td>1.3007</td>\n",
       "      <td>0.9070</td>\n",
       "      <td>0.2236</td>\n",
       "      <td>303</td>\n",
       "      <td>34</td>\n",
       "      <td>0</td>\n",
       "      <td>0</td>\n",
       "    </tr>\n",
       "    <tr>\n",
       "      <th>4</th>\n",
       "      <td>6953</td>\n",
       "      <td>0.0648</td>\n",
       "      <td>0.1447</td>\n",
       "      <td>0.9520</td>\n",
       "      <td>0.4976</td>\n",
       "      <td>1.0410</td>\n",
       "      <td>0.5355</td>\n",
       "      <td>0.0204</td>\n",
       "      <td>362</td>\n",
       "      <td>14</td>\n",
       "      <td>1</td>\n",
       "      <td>1</td>\n",
       "    </tr>\n",
       "  </tbody>\n",
       "</table>\n",
       "</div>"
      ],
      "text/plain": [
       "   SALES     ROCE    FFTL    GEAR    CLTA    CACL    QACL    WCTA  LAG  AGE  \\\n",
       "0   7646  31.2239  0.6312  0.5205  0.4829  1.6397  1.4935  0.3089  286   25   \n",
       "1  36067  10.9613  0.3540  0.3786  0.3786  1.5852  1.1626  0.2216  301   33   \n",
       "2  16737  17.9949  0.4388  0.5236  0.4347  1.1748  0.9795  0.0760   55   26   \n",
       "3  48162   6.1787  0.1181  0.9996  0.7437  1.3007  0.9070  0.2236  303   34   \n",
       "4   6953   0.0648  0.1447  0.9520  0.4976  1.0410  0.5355  0.0204  362   14   \n",
       "\n",
       "   CHAUD  BIG6  \n",
       "0      0     0  \n",
       "1      0     1  \n",
       "2      0     1  \n",
       "3      0     0  \n",
       "4      1     1  "
      ]
     },
     "execution_count": 5,
     "metadata": {},
     "output_type": "execute_result"
    }
   ],
   "source": [
    "y_train = pd.DataFrame(train['FAIL'])\n",
    "x_train = train.drop(y_train, axis = 1)\n",
    "x_train.head()"
   ]
  },
  {
   "cell_type": "markdown",
   "metadata": {},
   "source": [
    "### 1-3. Feature Selection by RFE"
   ]
  },
  {
   "cell_type": "code",
   "execution_count": 6,
   "metadata": {},
   "outputs": [
    {
     "name": "stdout",
     "output_type": "stream",
     "text": [
      "[ True  True  True  True  True  True  True  True  True  True  True  True]\n",
      "[1 1 1 1 1 1 1 1 1 1 1 1]\n"
     ]
    }
   ],
   "source": [
    "from sklearn.feature_selection import RFE\n",
    "lg = LogisticRegression()\n",
    "rfe = RFE(lg, 12)\n",
    "rfe = rfe.fit(x_train, y_train)\n",
    "print(rfe.support_)\n",
    "print(rfe.ranking_)"
   ]
  },
  {
   "cell_type": "markdown",
   "metadata": {},
   "source": [
    "RFE suggests that all columns are worthy"
   ]
  },
  {
   "cell_type": "markdown",
   "metadata": {},
   "source": [
    "### 1-4. Histogram of the features"
   ]
  },
  {
   "cell_type": "code",
   "execution_count": 7,
   "metadata": {},
   "outputs": [
    {
     "data": {
      "image/png": "[encoded data removed]",
      "text/plain": [
       "<matplotlib.figure.Figure at 0x1a145220b8>"
      ]
     },
     "metadata": {},
     "output_type": "display_data"
    }
   ],
   "source": [
    "x_train.hist(figsize=[10,12])\n",
    "plt.show()"
   ]
  },
  {
   "cell_type": "markdown",
   "metadata": {},
   "source": [
    "Scales are too different and few feature are not normalized at all.\n",
    "\n",
    "Since the histogram shows that BIG6 and CHAUD are categorical variables, I will explore only continuous variables and their corrleations"
   ]
  },
  {
   "cell_type": "markdown",
   "metadata": {},
   "source": [
    "### 1-5. Scale the continuous variables"
   ]
  },
  {
   "cell_type": "code",
   "execution_count": 8,
   "metadata": {},
   "outputs": [],
   "source": [
    "#cont = ['AGE','CACL','CLTA','FFTL','GEAR','LAG','QACL','ROCE','SALES','WCTA']\n",
    "#x_train = preprocessing.scale(x_train)\n",
    "#x_train[cont] = preprocessing.normalize(x_train[cont])\n",
    "#x_train = pd.DataFrame(x_train[cont])\n",
    "#x_train.hist(figsize = [10,12])\n",
    "#plt.show()"
   ]
  },
  {
   "cell_type": "markdown",
   "metadata": {},
   "source": [
    "### 1-6. Correlation for continuous variables"
   ]
  },
  {
   "cell_type": "code",
   "execution_count": 9,
   "metadata": {},
   "outputs": [
    {
     "data": {
      "image/png": "[encoded data removed]",
      "text/plain": [
       "<matplotlib.figure.Figure at 0x1a145220f0>"
      ]
     },
     "metadata": {},
     "output_type": "display_data"
    }
   ],
   "source": [
    "cont = ['AGE','CACL','CLTA','FFTL','GEAR','LAG','QACL','ROCE','SALES','WCTA']\n",
    "a = pd.DataFrame(x_train[cont].corr())\n",
    "sns.heatmap(a, annot = True, linewidths = 0.2, cmap = \"Blues\")\n",
    "fig = plt.gcf()\n",
    "fig.set_size_inches(14,12)\n",
    "plt.show()"
   ]
  },
  {
   "cell_type": "markdown",
   "metadata": {},
   "source": [
    "### 1-6. Drop one of the variables which generates higher correlation to avoid multicollinearity\n",
    "\n",
    "WCTA, FFTL, QACL"
   ]
  },
  {
   "cell_type": "code",
   "execution_count": 10,
   "metadata": {},
   "outputs": [
    {
     "data": {
      "image/png": "[encoded data removed]",
      "text/plain": [
       "<matplotlib.figure.Figure at 0x1a1ab9bef0>"
      ]
     },
     "metadata": {},
     "output_type": "display_data"
    }
   ],
   "source": [
    "FS = ['AGE','CLTA','GEAR','LAG','CACL','ROCE','SALES']\n",
    "a = pd.DataFrame(x_train[FS].corr())\n",
    "sns.heatmap(a, annot = True, linewidths = 0.2, cmap = \"Blues\")\n",
    "fig = plt.gcf()\n",
    "fig.set_size_inches(12,10)\n",
    "plt.show()"
   ]
  },
  {
   "cell_type": "markdown",
   "metadata": {},
   "source": [
    "The variables are now independent to each other"
   ]
  },
  {
   "cell_type": "code",
   "execution_count": 11,
   "metadata": {},
   "outputs": [],
   "source": [
    "FS = ['AGE','CLTA','GEAR','LAG','CACL','ROCE','SALES','CHAUD','BIG6']\n",
    "x_train = pd.DataFrame(x_train[FS])"
   ]
  },
  {
   "cell_type": "markdown",
   "metadata": {},
   "source": [
    "## 2. Modeling Logistic Regression and Evaluating"
   ]
  },
  {
   "cell_type": "code",
   "execution_count": 12,
   "metadata": {},
   "outputs": [
    {
     "name": "stdout",
     "output_type": "stream",
     "text": [
      "                            OLS Regression Results                            \n",
      "==============================================================================\n",
      "Dep. Variable:                   FAIL   R-squared:                       0.711\n",
      "Model:                            OLS   Adj. R-squared:                  0.636\n",
      "Method:                 Least Squares   F-statistic:                     9.556\n",
      "Date:                Sun, 01 Apr 2018   Prob (F-statistic):           3.58e-07\n",
      "Time:                        21:24:59   Log-Likelihood:                -19.894\n",
      "No. Observations:                  44   AIC:                             57.79\n",
      "Df Residuals:                      35   BIC:                             73.85\n",
      "Df Model:                           9                                         \n",
      "Covariance Type:            nonrobust                                         \n",
      "==============================================================================\n",
      "                 coef    std err          t      P>|t|      [0.025      0.975]\n",
      "------------------------------------------------------------------------------\n",
      "AGE           -0.0058      0.003     -1.711      0.096      -0.013       0.001\n",
      "CLTA           0.7580      0.284      2.670      0.011       0.182       1.334\n",
      "GEAR          -0.1117      0.177     -0.632      0.531      -0.471       0.247\n",
      "LAG            0.0010      0.001      1.397      0.171      -0.000       0.003\n",
      "CACL           0.0406      0.113      0.360      0.721      -0.189       0.270\n",
      "ROCE          -0.0044      0.006     -0.725      0.474      -0.017       0.008\n",
      "SALES       4.222e-06   5.07e-06      0.833      0.410   -6.06e-06    1.45e-05\n",
      "CHAUD          0.3104      0.180      1.726      0.093      -0.055       0.675\n",
      "BIG6          -0.2822      0.150     -1.878      0.069      -0.587       0.023\n",
      "==============================================================================\n",
      "Omnibus:                        7.628   Durbin-Watson:                   1.318\n",
      "Prob(Omnibus):                  0.022   Jarque-Bera (JB):                2.415\n",
      "Skew:                           0.080   Prob(JB):                        0.299\n",
      "Kurtosis:                       1.863   Cond. No.                     9.05e+04\n",
      "==============================================================================\n",
      "\n",
      "Warnings:\n",
      "[1] Standard Errors assume that the covariance matrix of the errors is correctly specified.\n",
      "[2] The condition number is large, 9.05e+04. This might indicate that there are\n",
      "strong multicollinearity or other numerical problems.\n"
     ]
    }
   ],
   "source": [
    "import statsmodels.api as sm\n",
    "logit_model=sm.OLS(y_train,x_train)\n",
    "result=logit_model.fit()\n",
    "#result.params\n",
    "print(result.summary())"
   ]
  },
  {
   "cell_type": "markdown",
   "metadata": {},
   "source": [
    "#### Remove 'CACL'"
   ]
  },
  {
   "cell_type": "code",
   "execution_count": 13,
   "metadata": {},
   "outputs": [
    {
     "name": "stdout",
     "output_type": "stream",
     "text": [
      "                            OLS Regression Results                            \n",
      "==============================================================================\n",
      "Dep. Variable:                   FAIL   R-squared:                       0.710\n",
      "Model:                            OLS   Adj. R-squared:                  0.645\n",
      "Method:                 Least Squares   F-statistic:                     11.00\n",
      "Date:                Sun, 01 Apr 2018   Prob (F-statistic):           1.09e-07\n",
      "Time:                        21:24:59   Log-Likelihood:                -19.975\n",
      "No. Observations:                  44   AIC:                             55.95\n",
      "Df Residuals:                      36   BIC:                             70.22\n",
      "Df Model:                           8                                         \n",
      "Covariance Type:            nonrobust                                         \n",
      "==============================================================================\n",
      "                 coef    std err          t      P>|t|      [0.025      0.975]\n",
      "------------------------------------------------------------------------------\n",
      "AGE           -0.0051      0.003     -1.914      0.064      -0.010       0.000\n",
      "CLTA           0.7314      0.271      2.701      0.010       0.182       1.281\n",
      "GEAR          -0.1029      0.173     -0.595      0.555      -0.454       0.248\n",
      "LAG            0.0012      0.001      1.677      0.102      -0.000       0.003\n",
      "ROCE          -0.0039      0.006     -0.667      0.509      -0.016       0.008\n",
      "SALES       4.559e-06   4.92e-06      0.927      0.360   -5.42e-06    1.45e-05\n",
      "CHAUD          0.3096      0.178      1.743      0.090      -0.051       0.670\n",
      "BIG6          -0.2675      0.143     -1.873      0.069      -0.557       0.022\n",
      "==============================================================================\n",
      "Omnibus:                        5.116   Durbin-Watson:                   1.315\n",
      "Prob(Omnibus):                  0.077   Jarque-Bera (JB):                1.993\n",
      "Skew:                           0.061   Prob(JB):                        0.369\n",
      "Kurtosis:                       1.964   Cond. No.                     8.79e+04\n",
      "==============================================================================\n",
      "\n",
      "Warnings:\n",
      "[1] Standard Errors assume that the covariance matrix of the errors is correctly specified.\n",
      "[2] The condition number is large, 8.79e+04. This might indicate that there are\n",
      "strong multicollinearity or other numerical problems.\n"
     ]
    }
   ],
   "source": [
    "FS = ['AGE','CLTA','GEAR','LAG','ROCE','SALES','CHAUD','BIG6']\n",
    "x_train = pd.DataFrame(x_train[FS])\n",
    "logit_model=sm.OLS(y_train,x_train)\n",
    "result=logit_model.fit()\n",
    "print(result.summary())"
   ]
  },
  {
   "cell_type": "markdown",
   "metadata": {},
   "source": [
    "#### Remove 'GEAR'"
   ]
  },
  {
   "cell_type": "code",
   "execution_count": 14,
   "metadata": {},
   "outputs": [
    {
     "name": "stdout",
     "output_type": "stream",
     "text": [
      "                            OLS Regression Results                            \n",
      "==============================================================================\n",
      "Dep. Variable:                   FAIL   R-squared:                       0.707\n",
      "Model:                            OLS   Adj. R-squared:                  0.651\n",
      "Method:                 Least Squares   F-statistic:                     12.74\n",
      "Date:                Sun, 01 Apr 2018   Prob (F-statistic):           3.41e-08\n",
      "Time:                        21:24:59   Log-Likelihood:                -20.190\n",
      "No. Observations:                  44   AIC:                             54.38\n",
      "Df Residuals:                      37   BIC:                             66.87\n",
      "Df Model:                           7                                         \n",
      "Covariance Type:            nonrobust                                         \n",
      "==============================================================================\n",
      "                 coef    std err          t      P>|t|      [0.025      0.975]\n",
      "------------------------------------------------------------------------------\n",
      "AGE           -0.0052      0.003     -1.982      0.055      -0.010       0.000\n",
      "CLTA           0.6370      0.218      2.929      0.006       0.196       1.078\n",
      "LAG            0.0012      0.001      1.695      0.099      -0.000       0.003\n",
      "ROCE          -0.0020      0.005     -0.417      0.679      -0.012       0.008\n",
      "SALES       4.071e-06   4.81e-06      0.847      0.403   -5.67e-06    1.38e-05\n",
      "CHAUD          0.3005      0.175      1.713      0.095      -0.055       0.656\n",
      "BIG6          -0.3011      0.130     -2.314      0.026      -0.565      -0.037\n",
      "==============================================================================\n",
      "Omnibus:                        6.595   Durbin-Watson:                   1.250\n",
      "Prob(Omnibus):                  0.037   Jarque-Bera (JB):                2.258\n",
      "Skew:                           0.076   Prob(JB):                        0.323\n",
      "Kurtosis:                       1.901   Cond. No.                     6.61e+04\n",
      "==============================================================================\n",
      "\n",
      "Warnings:\n",
      "[1] Standard Errors assume that the covariance matrix of the errors is correctly specified.\n",
      "[2] The condition number is large, 6.61e+04. This might indicate that there are\n",
      "strong multicollinearity or other numerical problems.\n"
     ]
    }
   ],
   "source": [
    "FS = ['AGE','CLTA','LAG','ROCE','SALES','CHAUD','BIG6']\n",
    "x_train = pd.DataFrame(x_train[FS])\n",
    "logit_model=sm.OLS(y_train,x_train)\n",
    "result=logit_model.fit()\n",
    "print(result.summary())"
   ]
  },
  {
   "cell_type": "markdown",
   "metadata": {},
   "source": [
    "#### Remove  'ROCE'"
   ]
  },
  {
   "cell_type": "code",
   "execution_count": 15,
   "metadata": {},
   "outputs": [
    {
     "name": "stdout",
     "output_type": "stream",
     "text": [
      "                            OLS Regression Results                            \n",
      "==============================================================================\n",
      "Dep. Variable:                   FAIL   R-squared:                       0.705\n",
      "Model:                            OLS   Adj. R-squared:                  0.659\n",
      "Method:                 Least Squares   F-statistic:                     15.17\n",
      "Date:                Sun, 01 Apr 2018   Prob (F-statistic):           8.94e-09\n",
      "Time:                        21:24:59   Log-Likelihood:                -20.294\n",
      "No. Observations:                  44   AIC:                             52.59\n",
      "Df Residuals:                      38   BIC:                             63.29\n",
      "Df Model:                           6                                         \n",
      "Covariance Type:            nonrobust                                         \n",
      "==============================================================================\n",
      "                 coef    std err          t      P>|t|      [0.025      0.975]\n",
      "------------------------------------------------------------------------------\n",
      "AGE           -0.0053      0.003     -2.080      0.044      -0.010      -0.000\n",
      "CLTA           0.6462      0.214      3.020      0.005       0.213       1.079\n",
      "LAG            0.0012      0.001      1.747      0.089      -0.000       0.003\n",
      "SALES       3.836e-06   4.72e-06      0.812      0.422   -5.72e-06    1.34e-05\n",
      "CHAUD          0.2977      0.173      1.717      0.094      -0.053       0.649\n",
      "BIG6          -0.3142      0.125     -2.516      0.016      -0.567      -0.061\n",
      "==============================================================================\n",
      "Omnibus:                        6.813   Durbin-Watson:                   1.203\n",
      "Prob(Omnibus):                  0.033   Jarque-Bera (JB):                2.271\n",
      "Skew:                           0.048   Prob(JB):                        0.321\n",
      "Kurtosis:                       1.891   Cond. No.                     6.59e+04\n",
      "==============================================================================\n",
      "\n",
      "Warnings:\n",
      "[1] Standard Errors assume that the covariance matrix of the errors is correctly specified.\n",
      "[2] The condition number is large, 6.59e+04. This might indicate that there are\n",
      "strong multicollinearity or other numerical problems.\n"
     ]
    }
   ],
   "source": [
    "FS = ['AGE','CLTA','LAG','SALES','CHAUD','BIG6']\n",
    "x_train = pd.DataFrame(x_train[FS])\n",
    "logit_model=sm.OLS(y_train,x_train)\n",
    "result=logit_model.fit()\n",
    "print(result.summary())"
   ]
  },
  {
   "cell_type": "markdown",
   "metadata": {},
   "source": [
    "#### Remove  'SALES'"
   ]
  },
  {
   "cell_type": "code",
   "execution_count": 16,
   "metadata": {},
   "outputs": [
    {
     "name": "stdout",
     "output_type": "stream",
     "text": [
      "                            OLS Regression Results                            \n",
      "==============================================================================\n",
      "Dep. Variable:                   FAIL   R-squared:                       0.700\n",
      "Model:                            OLS   Adj. R-squared:                  0.662\n",
      "Method:                 Least Squares   F-statistic:                     18.23\n",
      "Date:                Sun, 01 Apr 2018   Prob (F-statistic):           2.68e-09\n",
      "Time:                        21:24:59   Log-Likelihood:                -20.672\n",
      "No. Observations:                  44   AIC:                             51.34\n",
      "Df Residuals:                      39   BIC:                             60.27\n",
      "Df Model:                           5                                         \n",
      "Covariance Type:            nonrobust                                         \n",
      "==============================================================================\n",
      "                 coef    std err          t      P>|t|      [0.025      0.975]\n",
      "------------------------------------------------------------------------------\n",
      "AGE           -0.0050      0.003     -1.992      0.053      -0.010    7.83e-05\n",
      "CLTA           0.6458      0.213      3.031      0.004       0.215       1.077\n",
      "LAG            0.0013      0.001      1.968      0.056   -3.57e-05       0.003\n",
      "CHAUD          0.2800      0.171      1.635      0.110      -0.066       0.626\n",
      "BIG6          -0.2859      0.119     -2.395      0.022      -0.527      -0.044\n",
      "==============================================================================\n",
      "Omnibus:                        7.763   Durbin-Watson:                   1.211\n",
      "Prob(Omnibus):                  0.021   Jarque-Bera (JB):                2.405\n",
      "Skew:                           0.038   Prob(JB):                        0.300\n",
      "Kurtosis:                       1.857   Cond. No.                         947.\n",
      "==============================================================================\n",
      "\n",
      "Warnings:\n",
      "[1] Standard Errors assume that the covariance matrix of the errors is correctly specified.\n"
     ]
    }
   ],
   "source": [
    "FS = ['AGE','CLTA','LAG','CHAUD','BIG6']\n",
    "x_train = pd.DataFrame(x_train[FS])\n",
    "logit_model=sm.OLS(y_train,x_train)\n",
    "result=logit_model.fit()\n",
    "print(result.summary())"
   ]
  },
  {
   "cell_type": "markdown",
   "metadata": {},
   "source": [
    "#### Remove 'CHAUD'"
   ]
  },
  {
   "cell_type": "code",
   "execution_count": 17,
   "metadata": {},
   "outputs": [
    {
     "name": "stdout",
     "output_type": "stream",
     "text": [
      "                            OLS Regression Results                            \n",
      "==============================================================================\n",
      "Dep. Variable:                   FAIL   R-squared:                       0.680\n",
      "Model:                            OLS   Adj. R-squared:                  0.648\n",
      "Method:                 Least Squares   F-statistic:                     21.23\n",
      "Date:                Sun, 01 Apr 2018   Prob (F-statistic):           1.87e-09\n",
      "Time:                        21:24:59   Log-Likelihood:                -22.130\n",
      "No. Observations:                  44   AIC:                             52.26\n",
      "Df Residuals:                      40   BIC:                             59.40\n",
      "Df Model:                           4                                         \n",
      "Covariance Type:            nonrobust                                         \n",
      "==============================================================================\n",
      "                 coef    std err          t      P>|t|      [0.025      0.975]\n",
      "------------------------------------------------------------------------------\n",
      "AGE           -0.0057      0.003     -2.239      0.031      -0.011      -0.001\n",
      "CLTA           0.5728      0.213      2.694      0.010       0.143       1.003\n",
      "LAG            0.0017      0.001      2.851      0.007       0.001       0.003\n",
      "BIG6          -0.2913      0.122     -2.392      0.022      -0.537      -0.045\n",
      "==============================================================================\n",
      "Omnibus:                        8.883   Durbin-Watson:                   1.167\n",
      "Prob(Omnibus):                  0.012   Jarque-Bera (JB):                2.552\n",
      "Skew:                          -0.036   Prob(JB):                        0.279\n",
      "Kurtosis:                       1.822   Cond. No.                         896.\n",
      "==============================================================================\n",
      "\n",
      "Warnings:\n",
      "[1] Standard Errors assume that the covariance matrix of the errors is correctly specified.\n"
     ]
    }
   ],
   "source": [
    "FS = ['AGE','CLTA','LAG','BIG6']\n",
    "x_train = pd.DataFrame(x_train[FS])\n",
    "logit_model=sm.OLS(y_train,x_train)\n",
    "result=logit_model.fit()\n",
    "print(result.summary())"
   ]
  },
  {
   "cell_type": "markdown",
   "metadata": {},
   "source": [
    "### y test"
   ]
  },
  {
   "cell_type": "code",
   "execution_count": 18,
   "metadata": {},
   "outputs": [
    {
     "data": {
      "text/html": [
       "<div>\n",
       "<style scoped>\n",
       "    .dataframe tbody tr th:only-of-type {\n",
       "        vertical-align: middle;\n",
       "    }\n",
       "\n",
       "    .dataframe tbody tr th {\n",
       "        vertical-align: top;\n",
       "    }\n",
       "\n",
       "    .dataframe thead th {\n",
       "        text-align: right;\n",
       "    }\n",
       "</style>\n",
       "<table border=\"1\" class=\"dataframe\">\n",
       "  <thead>\n",
       "    <tr style=\"text-align: right;\">\n",
       "      <th></th>\n",
       "      <th>AGE</th>\n",
       "      <th>CLTA</th>\n",
       "      <th>LAG</th>\n",
       "      <th>BIG6</th>\n",
       "    </tr>\n",
       "  </thead>\n",
       "  <tbody>\n",
       "    <tr>\n",
       "      <th>0</th>\n",
       "      <td>5</td>\n",
       "      <td>0.7444</td>\n",
       "      <td>243</td>\n",
       "      <td>1</td>\n",
       "    </tr>\n",
       "    <tr>\n",
       "      <th>1</th>\n",
       "      <td>14</td>\n",
       "      <td>0.7320</td>\n",
       "      <td>301</td>\n",
       "      <td>0</td>\n",
       "    </tr>\n",
       "    <tr>\n",
       "      <th>2</th>\n",
       "      <td>13</td>\n",
       "      <td>0.1538</td>\n",
       "      <td>117</td>\n",
       "      <td>1</td>\n",
       "    </tr>\n",
       "    <tr>\n",
       "      <th>3</th>\n",
       "      <td>6</td>\n",
       "      <td>1.1831</td>\n",
       "      <td>183</td>\n",
       "      <td>1</td>\n",
       "    </tr>\n",
       "    <tr>\n",
       "      <th>4</th>\n",
       "      <td>51</td>\n",
       "      <td>0.3426</td>\n",
       "      <td>191</td>\n",
       "      <td>0</td>\n",
       "    </tr>\n",
       "  </tbody>\n",
       "</table>\n",
       "</div>"
      ],
      "text/plain": [
       "   AGE    CLTA  LAG  BIG6\n",
       "0    5  0.7444  243     1\n",
       "1   14  0.7320  301     0\n",
       "2   13  0.1538  117     1\n",
       "3    6  1.1831  183     1\n",
       "4   51  0.3426  191     0"
      ]
     },
     "execution_count": 18,
     "metadata": {},
     "output_type": "execute_result"
    }
   ],
   "source": [
    "x_test = pd.read_csv('bankruptcytestpostnolabel.csv')\n",
    "#x_test[cont] = preprocessing.scale(x_test[cont])\n",
    "x_test = pd.DataFrame(x_test[FS])\n",
    "x_test.head()"
   ]
  },
  {
   "cell_type": "markdown",
   "metadata": {},
   "source": [
    "## 3. Supervised Modeling"
   ]
  },
  {
   "cell_type": "code",
   "execution_count": 19,
   "metadata": {},
   "outputs": [
    {
     "data": {
      "text/plain": [
       "LogisticRegression(C=1.0, class_weight=None, dual=False, fit_intercept=True,\n",
       "          intercept_scaling=1, max_iter=100, multi_class='ovr', n_jobs=1,\n",
       "          penalty='l2', random_state=None, solver='liblinear', tol=0.0001,\n",
       "          verbose=0, warm_start=False)"
      ]
     },
     "execution_count": 19,
     "metadata": {},
     "output_type": "execute_result"
    }
   ],
   "source": [
    "clf = LogisticRegression()\n",
    "clf.fit(x_train, y_train)"
   ]
  },
  {
   "cell_type": "code",
   "execution_count": 20,
   "metadata": {},
   "outputs": [
    {
     "name": "stdout",
     "output_type": "stream",
     "text": [
      "0.6749999999999999\n"
     ]
    }
   ],
   "source": [
    "kfold = KFold(n_splits = 5)\n",
    "cv_result = cross_val_score(clf, x_train, y_train, scoring = 'accuracy', cv = kfold)\n",
    "print(cv_result.mean())"
   ]
  },
  {
   "cell_type": "markdown",
   "metadata": {},
   "source": [
    "## 4. Hyper Parameter"
   ]
  },
  {
   "cell_type": "code",
   "execution_count": 21,
   "metadata": {},
   "outputs": [
    {
     "name": "stdout",
     "output_type": "stream",
     "text": [
      "Train Accuracy for the tuned model 0.7045454545454546\n"
     ]
    },
    {
     "data": {
      "text/plain": [
       "LogisticRegression(C=0.2782559402207126, class_weight=None, dual=False,\n",
       "          fit_intercept=True, intercept_scaling=1, max_iter=100,\n",
       "          multi_class='ovr', n_jobs=1, penalty='l2', random_state=None,\n",
       "          solver='liblinear', tol=0.0001, verbose=0, warm_start=False)"
      ]
     },
     "execution_count": 21,
     "metadata": {},
     "output_type": "execute_result"
    }
   ],
   "source": [
    "param_grid = {\"penalty\" : ['l1', 'l2'], \"C\" : np.logspace(-5, 5, 10)}\n",
    "lrc = GridSearchCV(estimator = clf, param_grid = param_grid, cv = kfold)\n",
    "lrc.fit(x_train,y_train)\n",
    "print(\"Train Accuracy for the tuned model\", lrc.best_score_)\n",
    "bestModel = lrc.best_estimator_\n",
    "bestModel"
   ]
  },
  {
   "cell_type": "markdown",
   "metadata": {},
   "source": [
    "## 5. Prediction"
   ]
  },
  {
   "cell_type": "markdown",
   "metadata": {},
   "source": [
    "### Create y_test set using the best tuned model"
   ]
  },
  {
   "cell_type": "code",
   "execution_count": 27,
   "metadata": {},
   "outputs": [
    {
     "data": {
      "text/html": [
       "<div>\n",
       "<style scoped>\n",
       "    .dataframe tbody tr th:only-of-type {\n",
       "        vertical-align: middle;\n",
       "    }\n",
       "\n",
       "    .dataframe tbody tr th {\n",
       "        vertical-align: top;\n",
       "    }\n",
       "\n",
       "    .dataframe thead th {\n",
       "        text-align: right;\n",
       "    }\n",
       "</style>\n",
       "<table border=\"1\" class=\"dataframe\">\n",
       "  <thead>\n",
       "    <tr style=\"text-align: right;\">\n",
       "      <th></th>\n",
       "      <th>0</th>\n",
       "      <th>FAIL</th>\n",
       "    </tr>\n",
       "  </thead>\n",
       "  <tbody>\n",
       "    <tr>\n",
       "      <th>0</th>\n",
       "      <td>1</td>\n",
       "      <td>1</td>\n",
       "    </tr>\n",
       "    <tr>\n",
       "      <th>1</th>\n",
       "      <td>2</td>\n",
       "      <td>1</td>\n",
       "    </tr>\n",
       "    <tr>\n",
       "      <th>2</th>\n",
       "      <td>3</td>\n",
       "      <td>0</td>\n",
       "    </tr>\n",
       "    <tr>\n",
       "      <th>3</th>\n",
       "      <td>4</td>\n",
       "      <td>1</td>\n",
       "    </tr>\n",
       "    <tr>\n",
       "      <th>4</th>\n",
       "      <td>5</td>\n",
       "      <td>0</td>\n",
       "    </tr>\n",
       "    <tr>\n",
       "      <th>5</th>\n",
       "      <td>6</td>\n",
       "      <td>0</td>\n",
       "    </tr>\n",
       "    <tr>\n",
       "      <th>6</th>\n",
       "      <td>7</td>\n",
       "      <td>1</td>\n",
       "    </tr>\n",
       "    <tr>\n",
       "      <th>7</th>\n",
       "      <td>8</td>\n",
       "      <td>0</td>\n",
       "    </tr>\n",
       "    <tr>\n",
       "      <th>8</th>\n",
       "      <td>9</td>\n",
       "      <td>1</td>\n",
       "    </tr>\n",
       "    <tr>\n",
       "      <th>9</th>\n",
       "      <td>10</td>\n",
       "      <td>1</td>\n",
       "    </tr>\n",
       "    <tr>\n",
       "      <th>10</th>\n",
       "      <td>11</td>\n",
       "      <td>0</td>\n",
       "    </tr>\n",
       "    <tr>\n",
       "      <th>11</th>\n",
       "      <td>12</td>\n",
       "      <td>0</td>\n",
       "    </tr>\n",
       "    <tr>\n",
       "      <th>12</th>\n",
       "      <td>13</td>\n",
       "      <td>1</td>\n",
       "    </tr>\n",
       "    <tr>\n",
       "      <th>13</th>\n",
       "      <td>14</td>\n",
       "      <td>0</td>\n",
       "    </tr>\n",
       "    <tr>\n",
       "      <th>14</th>\n",
       "      <td>15</td>\n",
       "      <td>0</td>\n",
       "    </tr>\n",
       "    <tr>\n",
       "      <th>15</th>\n",
       "      <td>16</td>\n",
       "      <td>0</td>\n",
       "    </tr>\n",
       "  </tbody>\n",
       "</table>\n",
       "</div>"
      ],
      "text/plain": [
       "     0  FAIL\n",
       "0    1     1\n",
       "1    2     1\n",
       "2    3     0\n",
       "3    4     1\n",
       "4    5     0\n",
       "5    6     0\n",
       "6    7     1\n",
       "7    8     0\n",
       "8    9     1\n",
       "9   10     1\n",
       "10  11     0\n",
       "11  12     0\n",
       "12  13     1\n",
       "13  14     0\n",
       "14  15     0\n",
       "15  16     0"
      ]
     },
     "execution_count": 27,
     "metadata": {},
     "output_type": "execute_result"
    }
   ],
   "source": [
    "y_index = pd.DataFrame(np.arange(1,17))\n",
    "y_value = pd.Series(bestModel.predict(x_test), name = 'FAIL')\n",
    "y_test = pd.concat([y_index, y_value], axis = 1)\n",
    "y_test"
   ]
  },
  {
   "cell_type": "markdown",
   "metadata": {},
   "source": [
    "## 6. Save y_test as a csv file"
   ]
  },
  {
   "cell_type": "code",
   "execution_count": 28,
   "metadata": {},
   "outputs": [],
   "source": [
    "y_test.to_csv(\"y_test.csv\", index = False)"
   ]
  },
  {
   "cell_type": "code",
   "execution_count": null,
   "metadata": {},
   "outputs": [],
   "source": []
  }
 ],
 "metadata": {
  "kernelspec": {
   "display_name": "Python 3",
   "language": "python",
   "name": "python3"
  },
  "language_info": {
   "codemirror_mode": {
    "name": "ipython",
    "version": 3
   },
   "file_extension": ".py",
   "mimetype": "text/x-python",
   "name": "python",
   "nbconvert_exporter": "python",
   "pygments_lexer": "ipython3",
   "version": "3.6.4"
  }
 },
 "nbformat": 4,
 "nbformat_minor": 2
}
